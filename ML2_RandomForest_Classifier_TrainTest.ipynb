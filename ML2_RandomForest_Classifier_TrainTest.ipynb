{
 "cells": [
  {
   "cell_type": "raw",
   "id": "dca23171-0e41-41ca-a2d3-3def8cb2cd66",
   "metadata": {},
   "source": [
    "Authors: L. Biermann (UoP)\n",
    "Credits: This code was originally developed for the MaRS Modules.\n",
    "License: This code is offered as free-to-use in the public domain, with no warranty.\n",
    "Date_V2: 25/02/2025"
   ]
  },
  {
   "cell_type": "markdown",
   "id": "a0ccb9eb-2368-460a-9c90-cd738bbfc23c",
   "metadata": {},
   "source": [
    "# Supervised Shallow Machine Learning: Random Forest Classifier"
   ]
  },
  {
   "cell_type": "markdown",
   "id": "e20f661a-7d82-4562-9693-f4c572be34eb",
   "metadata": {},
   "source": [
    "<div class=\"alert alert-info\" role=\"alert\" \n",
    "     style=\"font-size: 1.1em; padding: 10px; margin: 10px 0; text-align: center;\">\n",
    "    \n",
    "    Random forest classifier is an *ensemble* learning method that builds multiple decision trees and aggregates \n",
    "    their discrete class votes to capture complex nonlinear relationships in data.\n",
    "</div>"
   ]
  },
  {
   "cell_type": "markdown",
   "id": "a395d4ad-9eff-4dba-9ac7-c07b9dc4d6a8",
   "metadata": {},
   "source": [
    "### Import Libraries including from `sklearn` for shallow ML"
   ]
  },
  {
   "cell_type": "code",
   "execution_count": 1,
   "id": "91ff73e0-8237-4087-81ba-8e4e3bb4e5c0",
   "metadata": {},
   "outputs": [],
   "source": [
    "# For Data Wrangling:\n",
    "import numpy as np\n",
    "import pandas as pd\n",
    "import xarray as xr\n",
    "\n",
    "# ML Modeling:\n",
    "from sklearn.ensemble import RandomForestClassifier\n",
    "from sklearn.model_selection import train_test_split\n",
    "from sklearn.metrics import accuracy_score\n",
    "import joblib\n",
    "\n",
    "# For Data Plotting:\n",
    "import matplotlib.pyplot as plt\n",
    "import seaborn as sns\n",
    "import scikitplot as skplt\n",
    "\n",
    "# Useful to have:\n",
    "from progressbar import progressbar\n",
    "\n",
    "#ignorewarnings\n",
    "import warnings\n",
    "warnings.filterwarnings(\"ignore\")"
   ]
  },
  {
   "cell_type": "markdown",
   "id": "db5c7afd-8af2-44ea-9afe-5c2861b63ecc",
   "metadata": {},
   "source": [
    "<div class=\"alert alert-info\" role=\"alert\" \n",
    "     style=\"font-size: 1.8em; font-weight: bold; padding: 15px; margin: 10px 0; text-align: center; background-color: #d9edf7; border-color: #bce8f1; color: #31708f; border-radius: 8px;\">\n",
    "    Data Pre/processing\n",
    "</div>"
   ]
  },
  {
   "cell_type": "markdown",
   "id": "282d4f0c-8347-4ff2-bb1e-eaad53140e21",
   "metadata": {},
   "source": [
    "### Load txt file -- option to 'zero' using `rhos_2202` and add columns `NDVI`, `Slope`, `FDI`"
   ]
  },
  {
   "cell_type": "raw",
   "id": "4b96d7cb-6024-4927-9e2a-cd29395fcf4e",
   "metadata": {},
   "source": [
    "# Read the data; first row is header, first column is labels.\n",
    "df = pd.read_csv('Barbados_Sargassum.txt', delim_whitespace = True)\n",
    "\n",
    "# Identify numeric columns (all except the first label column)\n",
    "numeric_cols = df.columns[1:]\n",
    "\n",
    "# Subtract the value in the column labeled \"2202\" from all numeric columns in each row.\n",
    "df[numeric_cols] = df[numeric_cols].sub(df[\"2202\"], axis = 0)\n",
    "df[numeric_cols] = df[numeric_cols].clip(lower = 0)\n",
    "\n",
    "# Add SLOPE as new column:\n",
    "df[\"SLOPE\"] = (df[\"833\"].values - df[\"704\"].values) * 179\n",
    "\n",
    "# Add FDI as new column:\n",
    "df[\"FDI\"] = df[\"833\"].values - (df[\"704\"].values + (df[\"1614\"].values - df[\"740\"].values) * 1.636)\n",
    "\n",
    "# Calculate NDVI using np.divide to avoid division by zero:\n",
    "denom = df[\"833\"].values + df[\"665\"].values\n",
    "df[\"NDVI\"] = np.divide(df[\"833\"].values - df[\"665\"].values, \n",
    "                       denom, \n",
    "                       out = np.zeros_like(denom), \n",
    "                       where = denom != 0)\n",
    "\n",
    "# Round numeric values to 5 decimal places:\n",
    "cols_to_round = numeric_cols.tolist() + [\"NDVI\", \"FDI\", \"SLOPE\"]\n",
    "df[cols_to_round] = df[cols_to_round].round(5)\n",
    "\n",
    "# Remove 'red flags' where NDVI equals 1 or -1:\n",
    "df = df[(df[\"NDVI\"] != 1) & (df[\"NDVI\"] != -1)]\n",
    "\n",
    "# Save your processed data to a new text file.\n",
    "df.to_csv('0_Barbados_Sargassum.txt', sep = '\\t', \n",
    "          index = False)"
   ]
  },
  {
   "cell_type": "markdown",
   "id": "2560a835-a995-4b9b-af90-8f954b37c4a9",
   "metadata": {},
   "source": [
    "### Load processed txt file using pandas' `read_csv function`"
   ]
  },
  {
   "cell_type": "code",
   "execution_count": 2,
   "id": "546fa81a-211a-48ff-ba71-bc709239ac30",
   "metadata": {},
   "outputs": [
    {
     "name": "stdout",
     "output_type": "stream",
     "text": [
      "       Class      443      492      560      665      704      740      783  \\\n",
      "0  Sargassum  0.00472  0.00759  0.03235  0.03537  0.11956  0.17820  0.22438   \n",
      "1  Sargassum  0.00364  0.00642  0.03314  0.03222  0.12599  0.18887  0.23300   \n",
      "\n",
      "       833      865     1614  2202     SLOPE      FDI     NDVI    FDI_0  \n",
      "0  0.23218  0.26549  0.00844   0.0  20.15865  0.39034  0.73563  0.39034  \n",
      "1  0.25135  0.27627  0.01153   0.0  22.44026  0.41550  0.77275  0.41550  \n"
     ]
    }
   ],
   "source": [
    "# Data are imported in Dataframe format\n",
    "MSI_df = pd.read_csv('0_Barbados_Sargassum.txt', delimiter=\"\\t\")\n",
    "\n",
    "# Duplicate FDI to give it more influence\n",
    "MSI_df['FDI_0'] = MSI_df['FDI']\n",
    "\n",
    "# Show new dataframe\n",
    "print(MSI_df.head(2))"
   ]
  },
  {
   "cell_type": "code",
   "execution_count": 3,
   "id": "4f67e03a-dad7-41e3-9de3-6e5c17a3bf09",
   "metadata": {},
   "outputs": [
    {
     "name": "stdout",
     "output_type": "stream",
     "text": [
      "(551, 8) (551,)\n"
     ]
    }
   ],
   "source": [
    "# Define feature columns\n",
    "features = [\"704\", \"740\", \"783\", \"833\", \"NDVI\", \"SLOPE\", \"FDI\", \"FDI_0\"]\n",
    "\n",
    "X = MSI_df[features]\n",
    "y = MSI_df[\"Class\"]\n",
    "\n",
    "# Needs to be (n,n)(n,)\n",
    "print(X.shape, y.shape)"
   ]
  },
  {
   "cell_type": "markdown",
   "id": "c42294e7-ec41-4844-ae43-df3800780f12",
   "metadata": {},
   "source": [
    "### Split the data into two sets: `training` (80%) and `test` (20%)"
   ]
  },
  {
   "cell_type": "code",
   "execution_count": 4,
   "id": "6916045c-ba64-4fb2-a1a3-39c085fc725f",
   "metadata": {},
   "outputs": [
    {
     "name": "stdout",
     "output_type": "stream",
     "text": [
      "Trainin set size: 440\n",
      "Testing set size: 111\n"
     ]
    }
   ],
   "source": [
    "# Split your dataset so 20% is set aside for testing (0.2) \n",
    "# Set random_state to ensure yr train-test split is always the same (for reproducibility)\n",
    "X_train, X_test, y_train, y_test = train_test_split(X, y, test_size = 0.2, random_state = 42)\n",
    "\n",
    "# Check the 80% training: 20% testing split\n",
    "print(\"Trainin set size:\", X_train.shape[0])\n",
    "print(\"Testing set size:\",  X_test.shape[0])"
   ]
  },
  {
   "cell_type": "code",
   "execution_count": 5,
   "id": "3e2fb781-b3d3-4302-8196-06a719c34f75",
   "metadata": {},
   "outputs": [
    {
     "data": {
      "image/png": "[encoded data removed]",
      "text/plain": [
       "<Figure size 400x300 with 1 Axes>"
      ]
     },
     "metadata": {},
     "output_type": "display_data"
    }
   ],
   "source": [
    "# Check distribution of classes in the training set\n",
    "plt.figure(figsize = (4, 3))\n",
    "ax = y_train.value_counts().plot(kind = 'bar', color = 'orange', edgecolor = 'grey')\n",
    "# Formatting\n",
    "ax.set_title(\"Training Data Class Distribution\", fontsize = 11, fontweight = 'bold')\n",
    "ax.set_xlabel(\"Classes\", fontsize = 10)\n",
    "ax.set_ylabel(\"Frequency\",fontsize= 10)\n",
    "plt.xticks(rotation=0)\n",
    "plt.grid(axis='y', linestyle='--', color='silver', alpha=0.7)\n",
    "plt.tight_layout()\n",
    "plt.show()"
   ]
  },
  {
   "cell_type": "markdown",
   "id": "d9b02411-1c1d-4046-a946-c67ec4de1c43",
   "metadata": {},
   "source": [
    "<div class=\"alert alert-info\" role=\"alert\" \n",
    "     style=\"font-size: 1.8em; font-weight: bold; padding: 15px; margin: 10px 0; text-align: center; background-color: #d9edf7; border-color: #bce8f1; color: #31708f; border-radius: 8px;\">\n",
    "    \n",
    "    Random Forest Classifier\n",
    "</div>"
   ]
  },
  {
   "cell_type": "code",
   "execution_count": 6,
   "id": "de9a875b-b87b-43f2-a4b4-58f80998b99e",
   "metadata": {},
   "outputs": [],
   "source": [
    "#Fit the model on training set\n",
    "rf_model = RandomForestClassifier(n_estimators = 100, random_state = 42)\n",
    "rf_model.fit(X_train, y_train)\n",
    "\n",
    "# Classify based on test data\n",
    "y_pred = rf_model.predict(X_test)"
   ]
  },
  {
   "cell_type": "markdown",
   "id": "46a4f55d-0643-4381-ac8d-6ca93bad63f6",
   "metadata": {},
   "source": [
    "### Save our new model"
   ]
  },
  {
   "cell_type": "code",
   "execution_count": 7,
   "id": "a1fcf74d-6e09-44c7-9bfe-48f1fd1776e6",
   "metadata": {},
   "outputs": [],
   "source": [
    "# Save newly trained GNB model to file\n",
    "joblib.dump(rf_model, \"RF_Classifier.pkl\");\n",
    "\n",
    "# Later, to load the model:\n",
    "# clf = joblib.load(\"sargassum_classifier.pkl\")"
   ]
  },
  {
   "cell_type": "markdown",
   "id": "05e04ae2-d25a-4dc5-9f74-8b88e466fea3",
   "metadata": {},
   "source": [
    "<div class=\"alert alert-info\" role=\"alert\" \n",
    "     style=\"font-size: 1.8em; font-weight: bold; padding: 15px; margin: 10px 0; text-align: center; background-color: #d9edf7; border-color: #bce8f1; color: #31708f; border-radius: 8px;\">\n",
    "    Evaluating Model Performance\n",
    "</div>"
   ]
  },
  {
   "cell_type": "markdown",
   "id": "7b042638-f178-4660-b190-546adeecb158",
   "metadata": {},
   "source": [
    "### Metrics for RF classifier: `Accuracy`, `Precision`, `Recall`, `F1-score`"
   ]
  },
  {
   "cell_type": "code",
   "execution_count": 8,
   "id": "4bf4af3a-ff2d-4b9a-af4c-e22506b4c6f2",
   "metadata": {},
   "outputs": [
    {
     "name": "stdout",
     "output_type": "stream",
     "text": [
      "Accuracy: 1.00\n"
     ]
    }
   ],
   "source": [
    "# Calcuate error/accuracy on y_test\n",
    "acc = accuracy_score(y_test, y_pred)\n",
    "print(f\"Accuracy: {acc:.2f}\")"
   ]
  },
  {
   "cell_type": "markdown",
   "id": "91ba7d75-2c8a-4991-a55d-43c0cdf7cbb9",
   "metadata": {},
   "source": [
    "### Confusion Matrix"
   ]
  },
  {
   "cell_type": "code",
   "execution_count": 9,
   "id": "2c3c6c37-b951-43ef-be20-98d5c5a27d95",
   "metadata": {},
   "outputs": [
    {
     "data": {
      "image/png": "[encoded data removed]",
      "text/plain": [
       "<Figure size 800x600 with 5 Axes>"
      ]
     },
     "metadata": {},
     "output_type": "display_data"
    }
   ],
   "source": [
    "fig, axs = plt.subplots(nrows = 2, ncols = 2, figsize = (8, 6))\n",
    "# Plot the confusion matrix in the first subplot (position [0, 0])\n",
    "skplt.metrics.plot_confusion_matrix(y_test, y_pred, normalize = True, ax = axs[0, 0])\n",
    "axs[0, 0].set_xlabel(\"Predicted\")\n",
    "axs[0, 0].set_ylabel(\"Actual\")\n",
    "axs[0, 0].set_title(\"RF: Norm Confusion Matrix (%)\", fontsize = 10, weight = 'bold')\n",
    "\n",
    "# Turn off the other subplots\n",
    "axs[0, 1].axis(\"off\")\n",
    "axs[1, 0].axis(\"off\")\n",
    "axs[1, 1].axis(\"off\")\n",
    "\n",
    "plt.tight_layout()\n",
    "plt.show()"
   ]
  },
  {
   "cell_type": "markdown",
   "id": "165d7990-09f2-4af5-bc74-27004fa6bd4e",
   "metadata": {},
   "source": [
    "<div class=\"alert alert-info\" role=\"alert\" \n",
    "     style=\"font-size: 1.8em; font-weight: bold; padding: 15px; margin: 10px 0; text-align: center; background-color: #d9edf7; border-color: #bce8f1; color: #31708f; border-radius: 8px;\">\n",
    "    Testing Model on New Data\n",
    "</div>"
   ]
  },
  {
   "cell_type": "markdown",
   "id": "01a7d4fa-2beb-4d4e-ac44-8caaa371f0dd",
   "metadata": {
    "jp-MarkdownHeadingCollapsed": true
   },
   "source": [
    "### Functions we will need to call later:"
   ]
  },
  {
   "cell_type": "code",
   "execution_count": 10,
   "id": "8e4ae97f-49ae-42c9-acfe-fb2e298870a8",
   "metadata": {},
   "outputs": [],
   "source": [
    "#------------------------------------------------------------------------------------------#\n",
    "def get_band_mapping(MSI_data):\n",
    "    \"\"\"\n",
    "    Create a mapping from our internal feature names to the expected band names \n",
    "    in the MSI dataset. If the dataset uses S2B naming (i.e. missing 'rhos_443'),\n",
    "    rename the bands to match the S2A convention.\n",
    "    \n",
    "    Returns:\n",
    "        mapping (dict): Maps feature keys (e.g., \"560\") to band names (e.g., \"rhos_560\").\n",
    "        MSI_data (xarray.Dataset): Updated dataset with renamed bands if necessary.\n",
    "    \"\"\"\n",
    "    mapping = {\n",
    "        \"560\"  : \"rhos_560\",\n",
    "        \"665\"  : \"rhos_665\",\n",
    "        \"704\"  : \"rhos_704\",\n",
    "        \"740\"  : \"rhos_740\",\n",
    "        \"783\"  : \"rhos_783\",\n",
    "        \"833\"  : \"rhos_833\",\n",
    "        \"865\"  : \"rhos_865\",\n",
    "        \"1614\" : \"rhos_1614\",\n",
    "        \"2202\" : \"rhos_2202\"\n",
    "    }\n",
    "    try:\n",
    "        _ = MSI_data[\"rhos_443\"]\n",
    "    except KeyError:\n",
    "        # Update band names to match S2A convention if S2B naming is detected.\n",
    "        MSI_data = MSI_data.rename({\n",
    "            \"rhos_442\" : \"rhos_443\",\n",
    "            \"rhos_559\" : \"rhos_560\",\n",
    "            \"rhos_739\" : \"rhos_740\",\n",
    "            \"rhos_780\" : \"rhos_783\",\n",
    "            \"rhos_864\" : \"rhos_865\",\n",
    "            \"rhos_1610\": \"rhos_1614\",\n",
    "            \"rhos_2186\": \"rhos_2202\"\n",
    "        })\n",
    "    return mapping, MSI_data\n",
    "    \n",
    "#------------------------------------------------------------------------------------------#\n",
    "def compute_zeroed_features(MSI_data):\n",
    "    \"\"\"\n",
    "    Apply a zeroing operation to the MSI bands by subtracting the reference band \n",
    "    (2202) and clipping negative values. Then compute additional indices such as \n",
    "    NDVI, FDI, and SLOPE.\n",
    "    \n",
    "    Returns:\n",
    "        features (dict): Contains the zeroed bands and computed indices.\n",
    "    \"\"\"\n",
    "    mapping, MSI_data = get_band_mapping(MSI_data)\n",
    "    \n",
    "    # Extract the band values using the mapping.\n",
    "    band560  = MSI_data[mapping[\"560\"]].values\n",
    "    band665  = MSI_data[mapping[\"665\"]].values\n",
    "    band704  = MSI_data[mapping[\"704\"]].values\n",
    "    band740  = MSI_data[mapping[\"740\"]].values\n",
    "    band783  = MSI_data[mapping[\"783\"]].values\n",
    "    band833  = MSI_data[mapping[\"833\"]].values\n",
    "    band865  = MSI_data[mapping[\"865\"]].values\n",
    "    band1614 = MSI_data[mapping[\"1614\"]].values\n",
    "    band2202 = MSI_data[mapping[\"2202\"]].values  # Reference band\n",
    "    \n",
    "    # Helper function to zero out negative values after subtracting the reference.\n",
    "    def zero_and_clip(band, ref):\n",
    "        result = band - ref\n",
    "        result[result < 0] = 0\n",
    "        return result\n",
    "    \n",
    "    # Apply zeroing to each band.\n",
    "    band560  = zero_and_clip(band560, band2202)\n",
    "    band665  = zero_and_clip(band665, band2202)\n",
    "    band704  = zero_and_clip(band704, band2202)\n",
    "    band740  = zero_and_clip(band740, band2202)\n",
    "    band783  = zero_and_clip(band783, band2202)\n",
    "    band833  = zero_and_clip(band833, band2202)\n",
    "    band865  = zero_and_clip(band865, band2202)\n",
    "    band1614 = zero_and_clip(band1614, band2202)\n",
    "    \n",
    "    # Compute NDVI using safe division to avoid division by zero.\n",
    "    denom = band833 + band665\n",
    "    NDVI  = np.divide(band833 - band665, denom, out=np.zeros_like(denom), where=denom != 0)\n",
    "    \n",
    "    # Compute FDI (Floating Debris Index) and duplicate it as FDI_0.\n",
    "    FDI   = band833 - (band704 + (band1614 - band740) * 1.636)\n",
    "    FDI_0 = FDI\n",
    "    \n",
    "    # Compute SLOPE index.\n",
    "    SLOPE = (band833 - band704) * 179\n",
    "\n",
    "    return {\n",
    "        \"560\"  : band560,\n",
    "        \"665\"  : band665,\n",
    "        \"704\"  : band704,\n",
    "        \"740\"  : band740,\n",
    "        \"783\"  : band783,\n",
    "        \"833\"  : band833,\n",
    "        \"865\"  : band865,\n",
    "        \"1614\" : band1614,\n",
    "        \"NDVI\" : NDVI,\n",
    "        \"SLOPE\": SLOPE,\n",
    "        \"FDI_0\": FDI_0,\n",
    "        \"FDI\"  : FDI}\n",
    "\n",
    "#------------------------------------------------------------------------------------------#\n",
    "def get_class(MSI_data):\n",
    "    \"\"\"\n",
    "    Build the feature matrix from MSI_data using zeroed features, then predict \n",
    "    the class for each pixel using the trained classifier. Finally, reshape the \n",
    "    predicted class array back into the original image dimensions.\n",
    "    \n",
    "    Returns:\n",
    "        predictions (np.ndarray): 2D array of predicted classes.\n",
    "    \"\"\"\n",
    "    features = compute_zeroed_features(MSI_data)\n",
    "    \n",
    "    # Define feature order as per training.\n",
    "    feature_order = [\"704\", \"740\", \"783\", \"833\", \"NDVI\", \"SLOPE\", \"FDI\", \"FDI_0\"]\n",
    "    sample_shape = features[feature_order[0]].shape\n",
    "    \n",
    "    # Flatten each feature to form a 2D feature matrix (one row per pixel).\n",
    "    feature_matrix = np.column_stack([features[f].flatten() for f in feature_order])\n",
    "    \n",
    "    # Use the trained classifier (model must be loaded) to predict classes.\n",
    "    predictions = model.predict(feature_matrix)\n",
    "    \n",
    "    # Reshape predictions to match the spatial grid of the original image.\n",
    "    predictions = predictions.reshape(sample_shape)\n",
    "    return predictions\n",
    "    \n",
    "#------------------------------------------------------------------------------------------#"
   ]
  },
  {
   "cell_type": "markdown",
   "id": "e3e2c2ea-051c-4452-87dc-3e9d8aad811a",
   "metadata": {},
   "source": [
    "### Load new dataset with `xarray` and trained model with `joblib`"
   ]
  },
  {
   "cell_type": "code",
   "execution_count": 11,
   "id": "90811d9c-8681-4750-b731-d9ba2a64b873",
   "metadata": {},
   "outputs": [],
   "source": [
    "# Load data\n",
    "MSI_data = xr.open_dataset(\"subset__S2B_MSI_20180426_PUR_L2R_Barbados.nc\") \n",
    "\n",
    "# Load model\n",
    "model = joblib.load(\"RF_Classifier.pkl\")"
   ]
  },
  {
   "cell_type": "markdown",
   "id": "d434e5d4-3b50-4c5a-beb8-a9b9d08c7504",
   "metadata": {},
   "source": [
    "### Classification: run model on new (unseen) data"
   ]
  },
  {
   "cell_type": "code",
   "execution_count": 12,
   "id": "3de01517-2fd4-4f45-b32f-cd4dbee82be5",
   "metadata": {},
   "outputs": [
    {
     "name": "stderr",
     "output_type": "stream",
     "text": [
      "\u001b[38;2;0;255;0m100%\u001b[39m \u001b[38;2;0;255;0m(100 of 100)\u001b[39m |######################| Elapsed Time: 0:01:21 Time:  0:01:210007\n"
     ]
    }
   ],
   "source": [
    "# Run classifier model on new data\n",
    "# Parallel process; shows progress\n",
    "for i in progressbar(range(100)): \n",
    "    out_class = get_class(MSI_data)"
   ]
  },
  {
   "cell_type": "markdown",
   "id": "98abfc99-6fd2-42ff-a49d-74e206887ed5",
   "metadata": {},
   "source": [
    "### Plotting predicated classes"
   ]
  },
  {
   "cell_type": "code",
   "execution_count": 13,
   "id": "7bb88f19-989d-4c58-8521-abcc34026646",
   "metadata": {},
   "outputs": [],
   "source": [
    "# Convert string labels to numeric codes:\n",
    "label_uni = np.unique(out_class)\n",
    "label_int = {label: i for i, label in enumerate(label_uni)}\n",
    "\n",
    "# Create a numeric version of out_class\n",
    "out_class_num = np.vectorize(label_int.get)(out_class)"
   ]
  },
  {
   "cell_type": "code",
   "execution_count": 14,
   "id": "0fd80b42-b604-49f4-9f58-ddc7d5c33c23",
   "metadata": {},
   "outputs": [
    {
     "data": {
      "image/png": "[encoded data removed]",
      "text/plain": [
       "<Figure size 600x600 with 2 Axes>"
      ]
     },
     "metadata": {},
     "output_type": "display_data"
    }
   ],
   "source": [
    "# Extract latitude and longitude arrays from MSI_data\n",
    "lat2d = MSI_data['lat'].values  # 2D array, shape (616, 949)\n",
    "lon2d = MSI_data['lon'].values  # 2D array\n",
    "\n",
    "# Compute the extent boundaries\n",
    "lon_min, lon_max = np.nanmin(lon2d), np.nanmax(lon2d)\n",
    "lat_min, lat_max = np.nanmin(lat2d), np.nanmax(lat2d)\n",
    "\n",
    "# Now plot the numeric array:\n",
    "plt.figure(figsize = (6, 6))\n",
    "plt.imshow(out_class_num, cmap='bone', origin='upper',\n",
    "           extent=[lon_min, lon_max, lat_min, lat_max])\n",
    "cbar = plt.colorbar(orientation= 'horizontal', fraction = 0.1, pad = 0.1)\n",
    "\n",
    "# Set colorbar ticks centered on each class. Use the integer codes.\n",
    "num_classes = len(label_uni)\n",
    "ticks = np.arange(0.1, num_classes, 1)\n",
    "cbar.set_ticks(ticks)\n",
    "\n",
    "# Optionally label ticks with the class names\n",
    "cbar.set_ticklabels([str(label) for label in label_uni])\n",
    "cbar.set_label('Predicted Classes', fontsize = 10)\n",
    "plt.title(\"Predicted Classes\")\n",
    "\n",
    "plt.show()"
   ]
  }
 ],
 "metadata": {
  "kernelspec": {
   "display_name": "Python 3 (ipykernel)",
   "language": "python",
   "name": "python3"
  },
  "language_info": {
   "codemirror_mode": {
    "name": "ipython",
    "version": 3
   },
   "file_extension": ".py",
   "mimetype": "text/x-python",
   "name": "python",
   "nbconvert_exporter": "python",
   "pygments_lexer": "ipython3",
   "version": "3.11.8"
  }
 },
 "nbformat": 4,
 "nbformat_minor": 5
}
